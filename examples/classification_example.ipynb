{
 "cells": [
  {
   "cell_type": "markdown",
   "metadata": {},
   "source": [
    "# Featuristic Example: Text Classification\n",
    "\n",
    "This notebook demonstrates how to use Featuristic to classify text documents based on their content.\n",
    "\n",
    "It utilizes a dataset of news articles which fall into one of the following categories:\n",
    "- Related to the war between Russia and Ukraine\n",
    "- Related to the diplomatic relations between the US and UK"
   ]
  },
  {
   "cell_type": "code",
   "execution_count": 1,
   "metadata": {},
   "outputs": [],
   "source": [
    "from featuristic import FeaturisticClassifier\n",
    "from featuristic import PromptFeatureDefinition, PromptFeatureConfiguration, extract_features\n",
    "from featuristic import Distribution\n",
    "\n",
    "from sklearn.model_selection import train_test_split\n",
    "import json\n",
    "import numpy as np\n",
    "import os"
   ]
  },
  {
   "cell_type": "markdown",
   "metadata": {},
   "source": [
    "## Setup API variables\n",
    "\n",
    "Configure your API key, base URL, version, and model"
   ]
  },
  {
   "cell_type": "code",
   "execution_count": 2,
   "metadata": {},
   "outputs": [],
   "source": [
    "# Replace with your actual API key and endpoint\n",
    "API_KEY = os.getenv(\"API_KEY\")\n",
    "API_BASE = os.getenv(\"API_BASE\")\n",
    "API_VERSION = os.getenv(\"API_VERSION\")\n",
    "MODEL = os.getenv(\"MODEL\")"
   ]
  },
  {
   "cell_type": "markdown",
   "metadata": {},
   "source": [
    "## Data Loading and Preparation\n",
    "\n",
    "Load data from JSON files and prepare training and testing datasets."
   ]
  },
  {
   "cell_type": "code",
   "execution_count": 3,
   "metadata": {},
   "outputs": [],
   "source": [
    "def load_data(path):\n",
    "    with open(path, \"r\") as f:\n",
    "        data = f.readlines()\n",
    "    return [json.loads(d)[\"text\"].strip().replace(\"\\n\\n\", \"\\n\") for d in data if \"text\" in json.loads(d)]"
   ]
  },
  {
   "cell_type": "code",
   "execution_count": 4,
   "metadata": {},
   "outputs": [
    {
     "name": "stdout",
     "output_type": "stream",
     "text": [
      "Training samples: 10\n",
      "Testing samples: 10\n"
     ]
    }
   ],
   "source": [
    "# Load the datasets\n",
    "russia_ukraine = load_data(\"data/russia_ukraine_2025.jsonl\")\n",
    "ones = np.ones(len(russia_ukraine))\n",
    "\n",
    "uk_us_relationship = load_data(\"data/uk_us_relationship.jsonl\")\n",
    "zeros = np.zeros(len(uk_us_relationship))\n",
    "\n",
    "X = russia_ukraine + uk_us_relationship\n",
    "y = np.concatenate([ones, zeros])\n",
    "\n",
    "# Split into training and testing datasets\n",
    "data_train, data_test, y_train, y_test = train_test_split(\n",
    "    X, y, test_size=0.2, random_state=42)\n",
    "\n",
    "# For demonstration purposes, use small samples\n",
    "data_train = data_train[:10]\n",
    "y_train = y_train[:10]\n",
    "\n",
    "data_test = data_test[:10]\n",
    "y_test = y_test[:10]\n",
    "\n",
    "print(f\"Training samples: {len(data_train)}\")\n",
    "print(f\"Testing samples: {len(data_test)}\")"
   ]
  },
  {
   "cell_type": "markdown",
   "metadata": {},
   "source": [
    "# Data Examples"
   ]
  },
  {
   "cell_type": "code",
   "execution_count": 5,
   "metadata": {
    "vscode": {
     "languageId": "ruby"
    }
   },
   "outputs": [
    {
     "name": "stdout",
     "output_type": "stream",
     "text": [
      "==== Example from Russia-Ukraine class ====\n",
      "The Russian government is reportedly drafting new legislation that will allow it to seize assets belonging to Western states and their citizens in retaliation for the unlawful confiscation of Russian funds and property abroad. The initiative was disclosed by the Izvestia newspaper on January 21, citing official documents prepared by the government legislation commission. If passed, this law would mark a significant escalation in the economic standoff between Russia and Western nations following the freezing of Russian assets amid the Ukraine conflict.\n",
      "As the standoff continues, the stakes for both sides remain high. For Russia, the legislation represents an opportunity to assert its sovereignty and retaliate against perceived injustices. For the West, it serves as a reminder of the risks inherent in weaponizing economic tools in geopolitical conflicts. The coming weeks will reveal whether Moscow proceeds with this bold move and how the international community responds.\n",
      "According to the draft bill, which has been included in the agenda of the government’s legislation commission, assets owned by Western states deemed “unfriendly” and associated individuals could be transferred into Russian state ownership. The process will be overseen by a court of arbitration and executed based on recommendations from Russia’s commission on foreign investments. This body will compile a list of properties and funds subject to potential confiscation.\n",
      "The legislation aims to serve as a countermeasure against what Moscow views as illegal asset freezes and confiscations by Western nations. Since the onset of the Ukraine conflict in February 2022, the USA and its allies have imposed sweeping sanctions on Russia, freezing approximately $300 billion of Russian sovereign assets held in international financial institutions such as Brussels-based Euroclear.\n",
      "The draft law, reportedly prepared by the Ministry of Justice, has received approval from several key government bodies, including the Bank of Russia, the Finance Ministry, the Economy Ministry, and the Ministry of Foreign Affairs. Vedomosti newspaper noted that the draft was added to the legislation commission’s agenda on January 20 and could be reviewed as early as next week.\n",
      "The initiative follows a decree signed (Decree No. 422) by Russian President Vladimir Putin in May 2023, which laid the groundwork for seizing assets of US companies and individuals as compensation for Russian properties expropriated by Western nations. The proposed legislation expands this framework, enabling broader measures against “unfriendly” states and individuals linked to such actions.\n",
      "Western nations, led by the USA, have frozen billions of dollars in Russian assets as part of sanctions aimed at crippling Moscow’s ability to finance its military operations in Ukraine. The frozen funds include state reserves, private assets, and commercial properties. Ukraine has repeatedly urged its Western allies to confiscate these assets and redirect them to support its military and post-war reconstruction efforts.\n",
      "The Biden Administration has expressed support for such measures, while some European nations have raised concerns about the legal and economic repercussions. Critics argue that expropriating Russian sovereign assets would set a dangerous precedent and undermine trust in the Western financial system, particularly the euro. European nations have so far resisted fully endorsing the idea, opting instead to explore alternative measures, such as imposing windfall taxes on profits generated by the frozen Russian funds.\n",
      "The Kremlin has consistently denounced the freezing of its assets as outright “theft” and accused Western nations of violating international law. Kremlin spokesperson Dmitry Peskov has warned of legal consequences for any nation or entity involved in seizing Russian property. Moscow views these measures as part of a broader strategy by the West to weaken Russia economically and politically.\n",
      "The proposed legislation to confiscate Western assets is a direct response to what Moscow perceives as economic aggression. By taking reciprocal action, Russia aims to deter further attempts by Western nations to target its sovereign wealth and private holdings.\n",
      "If adopted, this legislation could significantly impact relations between Russia and Western nations. The law would provide Moscow with a legal framework to seize properties, financial assets, and investments owned by Western entities, creating a tit-for-tat dynamic that could exacerbate tensions. Such measures would likely deter foreign investment in Russia, further isolating the country economically.\n",
      "At the same time, the move could embolden other nations facing sanctions to adopt similar measures, thereby destabilizing international financial norms. The global financial system relies heavily on trust and the sanctity of private property, and any erosion of these principles could have far-reaching consequences.\n",
      "While the USA has been vocal about supporting the confiscation of Russian assets, European nations remain cautious. Legal experts have warned that seizing state-owned assets could face significant legal hurdles and may violate international conventions protecting sovereign immunity. There is also concern that such actions could set a precedent, enabling other countries to confiscate Western assets in retaliation for perceived injustices.\n",
      "For example, imposing a windfall tax on profits generated by frozen Russian assets- a measure currently under consideration by Western allies- is viewed as a less controversial approach. These funds could be used to finance loans or directly purchase weapons for Ukraine. However, even this approach has faced criticism for potentially undermining property rights and the stability of financial markets.\n",
      "Beyond asset seizures, Russia has implemented various measures to mitigate the impact of Western sanctions. These include redirecting trade to non-Western partners, increasing domestic production of critical goods, and leveraging its vast energy resources to secure new markets in Asia and the Middle East. While these efforts have softened the blow of sanctions, the long-term effects on Russia’s economy remain uncertain.\n",
      "The proposed legislation to seize Western assets is part of this broader strategy to push back against Western economic pressure. By targeting assets owned by “unfriendly” states, Moscow aims to shift some of the financial burden onto its adversaries.\n",
      "The introduction of this legislation could further escalate the economic conflict between Russia and the West. As both sides engage in retaliatory measures, the likelihood of a resolution diminishes. The standoff over frozen assets has already strained diplomatic relations and hindered efforts to negotiate a peaceful resolution to the Ukraine conflict.\n",
      "Moreover, the potential for legal battles over asset confiscation adds another layer of complexity. Nations targeted by Russia’s legislation are likely to challenge these actions in international courts, prolonging the conflict and creating additional uncertainty for global markets.\n",
      "Russia’s draft legislation to seize Western assets marks a significant escalation in its economic confrontation with the West. Framed as a response to the “theft” of its own assets, the proposed law reflects Moscow’s determination to counter what it views as illegal and unjust actions by Western nations.\n",
      "While the legislation is still under review, its adoption could have far-reaching implications for international relations, economic stability, and the global financial system. By challenging the sanctity of property rights, both Russia and its Western adversaries risk undermining the very foundations of the international economic order.\n",
      "As the standoff continues, the stakes for both sides remain high. For Russia, the legislation represents an opportunity to assert its sovereignty and retaliate against perceived injustices. For the West, it serves as a reminder of the risks inherent in weaponizing economic tools in geopolitical conflicts. The coming weeks will reveal whether Moscow proceeds with this bold move and how the international community responds.\n",
      "\n",
      "\n",
      "==== Example from UK-US relationship class ===\n",
      "The Toronto Maple Leafs have been missing towering defenseman Jani Hakanpaa for most of the season and could potentially rekindle interest in 6'7' Vincent Desharnais to replace him if his health remains an issue.\n",
      "The Maple Leafs have dealt with far more than their fair share of injury issues this season, but with a record of 19-10-2, the Leafs sit atop the Atlantic Division and 3rd in the Eastern Conference, showing that they can win even without an optimal lineup.\n",
      "This fall, the Leafs and Hakanpaa finalized a 1-year deal in hopes that the hulking Finnish defenseman's knee would hold up long enough to help the team challenge for a Stanley Cup in the Spring/Summer. So far, that hasn't been the case.\n",
      "During a written version of 32 Thoughts back in October of 2023, Elliotte Friedman revealed that the Maple Leafs had inquired about 6-foot-7 defenseman Vincent Desharnais, who was then with the Edmonton Oilers.\n",
      "Now with the Vancouver Canucks, who currently sit 4th in the Pacific Division, Leafs GM Brad Treliving may still have an interest in acquiring the large, 226-pound blueliner.\n",
      "'4. Before Toronto traded Sam Lafferty to Vancouver (a nice pickup), the Maple Leafs called the Oilers. Edmonton's liked him for a while, poking around last season before he was moved by Chicago. It obviously didn't happen, but the Maple Leafs asked about Vincent Desharnais. He fits what they are looking for. He's a favourite of the Oilers' coaching staff. During an exhibition game in Calgary, head coach Jay Woodcroft put him out there as the extra skater when Jack Campbell was pulled in a 1-0 game. Desharnais went to the front of the net, putting on a great screen as Edmonton scored. I'd love to see that during the season.' - Friedman on the Leafs' interest in Desharnais back in 2023\n"
     ]
    }
   ],
   "source": [
    "import random\n",
    "\n",
    "# Get a random example from each class\n",
    "random_russia_ukraine = random.choice(russia_ukraine)\n",
    "random_uk_us_relationship = random.choice(uk_us_relationship)\n",
    "\n",
    "print(\"==== Example from Russia-Ukraine class ====\")\n",
    "print(random_russia_ukraine)\n",
    "print(\"\\n\\n==== Example from UK-US relationship class ===\")\n",
    "print(random_uk_us_relationship)"
   ]
  },
  {
   "cell_type": "markdown",
   "metadata": {},
   "source": [
    "## Feature Definition\n",
    "\n",
    "Define LLM-based features we'll use for classification."
   ]
  },
  {
   "cell_type": "code",
   "execution_count": 6,
   "metadata": {},
   "outputs": [],
   "source": [
    "# Create feature configuration\n",
    "config = PromptFeatureConfiguration(\n",
    "    api_base=API_BASE,\n",
    "    api_version=API_VERSION,\n",
    "    api_key=API_KEY,\n",
    "    model=MODEL,\n",
    ")\n",
    "\n",
    "# Helper function for text proportion features\n",
    "def as_propotion_of_text(x, text):\n",
    "    return x/len(text.split())"
   ]
  },
  {
   "cell_type": "code",
   "execution_count": 7,
   "metadata": {},
   "outputs": [],
   "source": [
    "# Define features for classification\n",
    "mention_of_war = PromptFeatureDefinition(\n",
    "    name=\"mention_of_war\",\n",
    "    prompt=\"Whether or not the notion of war is mentioned\",\n",
    "    llm_return_type=bool,\n",
    "    distribution=Distribution.BERNOULLI,\n",
    "    config=config\n",
    ")\n",
    "\n",
    "mention_of_casualties = PromptFeatureDefinition(\n",
    "    name=\"mention_of_casualties\",\n",
    "    prompt=\"Whether or not the notion of casualities are mentioned\",\n",
    "    llm_return_type=bool,\n",
    "    distribution=Distribution.BERNOULLI,\n",
    "    config=config\n",
    ")\n",
    "\n",
    "mentions_weapons = PromptFeatureDefinition(\n",
    "    name=\"mentions_weapons\",\n",
    "    prompt=\"Whether or not the notion of weapons are mentioned\",\n",
    "    llm_return_type=bool,\n",
    "    distribution=Distribution.BERNOULLI,\n",
    "    config=config\n",
    ")\n",
    "\n",
    "mentions_US = PromptFeatureDefinition(\n",
    "    name=\"mentions_US\",\n",
    "    prompt=\"A count of references to the United States\",\n",
    "    llm_return_type=int,\n",
    "    feature_post_callback=as_propotion_of_text,\n",
    "    distribution=Distribution.GAUSSIAN,\n",
    "    config=config\n",
    ")\n",
    "\n",
    "mentions_Russia = PromptFeatureDefinition(\n",
    "    name=\"mentions_Russia\",\n",
    "    prompt=\"A count of references to Russians, Russia, or a place in Russia\",\n",
    "    llm_return_type=int,\n",
    "    feature_post_callback=as_propotion_of_text,\n",
    "    distribution=Distribution.GAUSSIAN,\n",
    "    config=config\n",
    ")\n",
    "\n",
    "mentions_Ukraine = PromptFeatureDefinition(\n",
    "    name=\"mentions_Ukraine\",\n",
    "    prompt=\"A count of references to Ukrainians, Ukraine, or any place in Ukraine\",\n",
    "    llm_return_type=int,\n",
    "    feature_post_callback=as_propotion_of_text,\n",
    "    distribution=Distribution.GAUSSIAN,\n",
    "    config=config\n",
    ")\n",
    "\n",
    "mentions_Putin = PromptFeatureDefinition(\n",
    "    name=\"mentions_Putin\",\n",
    "    prompt=\"A count of the references to Vladamir Putin\",\n",
    "    llm_return_type=int,\n",
    "    feature_post_callback=as_propotion_of_text,\n",
    "    distribution=Distribution.GAUSSIAN,\n",
    "    config=config\n",
    ")\n",
    "\n",
    "russian_ukraine_theme = PromptFeatureDefinition(\n",
    "    name=\"russian_ukraine_theme\",\n",
    "    prompt=\"Whether or not the theme of the article is about the war between Russia and Ukraine\",\n",
    "    llm_return_type=bool,\n",
    "    distribution=Distribution.BERNOULLI,\n",
    "    config=config\n",
    ")\n",
    "\n",
    "# Collect all feature definitions\n",
    "feature_definitions = [\n",
    "    mention_of_war,\n",
    "    mention_of_casualties,\n",
    "    mentions_weapons,\n",
    "    mentions_US,\n",
    "    mentions_Russia,\n",
    "    mentions_Ukraine,\n",
    "    mentions_Putin,\n",
    "    russian_ukraine_theme\n",
    "]"
   ]
  },
  {
   "cell_type": "markdown",
   "metadata": {},
   "source": [
    "## Classification Model\n",
    "\n",
    "Create a Featuristic classifier using our feature definitions."
   ]
  },
  {
   "cell_type": "code",
   "execution_count": 8,
   "metadata": {},
   "outputs": [],
   "source": [
    "# Initialize the classifier\n",
    "featuristic_classifier = FeaturisticClassifier(\n",
    "    distributions=[d.distribution for d in feature_definitions]\n",
    ")"
   ]
  },
  {
   "cell_type": "code",
   "execution_count": 9,
   "metadata": {},
   "outputs": [],
   "source": [
    "# Define the main training and testing function\n",
    "async def train_and_test():\n",
    "    print(\"Extracting features from training data...\")\n",
    "    features_train = await extract_features(\n",
    "        data=data_train,\n",
    "        feature_definitions=feature_definitions\n",
    "    )\n",
    "    \n",
    "    print(\"\\nTraining classifier...\")\n",
    "    featuristic_classifier.fit(\n",
    "        features=features_train,\n",
    "        Y=y_train\n",
    "    )\n",
    "    \n",
    "    print(\"\\nExtracting features from test data...\")\n",
    "    features_test = await extract_features(\n",
    "        data=data_test,\n",
    "        feature_definitions=feature_definitions\n",
    "    )\n",
    "    \n",
    "    print(\"\\nMaking predictions...\")\n",
    "    predictions = featuristic_classifier.predict(features_test)\n",
    "    predictions = np.array(predictions)\n",
    "    \n",
    "    return predictions"
   ]
  },
  {
   "cell_type": "markdown",
   "metadata": {},
   "source": [
    "## Train and Evaluate the Model"
   ]
  },
  {
   "cell_type": "code",
   "execution_count": 10,
   "metadata": {},
   "outputs": [
    {
     "name": "stdout",
     "output_type": "stream",
     "text": [
      "Extracting features from training data...\n",
      "\n",
      "Training classifier...\n",
      "\n",
      "Extracting features from test data...\n",
      "\n",
      "Making predictions...\n",
      "\n",
      "Results:\n",
      "Correct predictions: 10/10\n",
      "Accuracy: 1.00\n"
     ]
    }
   ],
   "source": [
    "# Run the training and testing process\n",
    "predictions = await train_and_test()\n",
    "\n",
    "# Calculate and display results\n",
    "correct = np.sum(predictions == y_test)\n",
    "total = len(y_test)\n",
    "accuracy = correct/total\n",
    "\n",
    "print(f\"\\nResults:\")\n",
    "print(f\"Correct predictions: {correct}/{total}\")\n",
    "print(f\"Accuracy: {accuracy:.2f}\")"
   ]
  },
  {
   "cell_type": "code",
   "execution_count": null,
   "metadata": {},
   "outputs": [],
   "source": []
  }
 ],
 "metadata": {
  "kernelspec": {
   "display_name": "Python 3",
   "language": "python",
   "name": "python3"
  },
  "language_info": {
   "codemirror_mode": {
    "name": "ipython",
    "version": 3
   },
   "file_extension": ".py",
   "mimetype": "text/x-python",
   "name": "python",
   "nbconvert_exporter": "python",
   "pygments_lexer": "ipython3",
   "version": "3.12.8"
  }
 },
 "nbformat": 4,
 "nbformat_minor": 2
}
